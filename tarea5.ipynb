{
 "cells": [
  {
   "cell_type": "code",
   "execution_count": 14,
   "id": "82ab7af9",
   "metadata": {},
   "outputs": [],
   "source": [
    "import random\n",
    "import matplotlib.pyplot as plt\n",
    "import imp\n",
    "import pandas as pd"
   ]
  },
  {
   "cell_type": "code",
   "execution_count": 15,
   "id": "6139d04d",
   "metadata": {},
   "outputs": [],
   "source": [
    "class Perceptron:\n",
    "    def __init__(self, input_number, step_size =0.1):\n",
    "        self._ins = input_number\n",
    "        self._w = [random.random() for _ in range(input_number)]\n",
    "        self._eta = step_size\n",
    "        \n",
    "    def predict(self, inputs):\n",
    "        calculo = sum(w * entrada for w, entrada in zip(self._w, inputs))\n",
    "        if calculo > 0:\n",
    "            return 1\n",
    "        return 0\n",
    "                \n",
    "    def train(self, inputs, ex_output):\n",
    "        output = self.predict(inputs)\n",
    "        error = ex_output - output\n",
    "        if error !=0:\n",
    "            self._w = [w + self._eta * error * x for w, x in zip(self._w, inputs)]\n",
    "        return error"
   ]
  },
  {
   "cell_type": "code",
   "execution_count": 16,
   "id": "34e00c50",
   "metadata": {},
   "outputs": [
    {
     "data": {
      "text/html": [
       "<div>\n",
       "<style scoped>\n",
       "    .dataframe tbody tr th:only-of-type {\n",
       "        vertical-align: middle;\n",
       "    }\n",
       "\n",
       "    .dataframe tbody tr th {\n",
       "        vertical-align: top;\n",
       "    }\n",
       "\n",
       "    .dataframe thead th {\n",
       "        text-align: right;\n",
       "    }\n",
       "</style>\n",
       "<table border=\"1\" class=\"dataframe\">\n",
       "  <thead>\n",
       "    <tr style=\"text-align: right;\">\n",
       "      <th></th>\n",
       "      <th>peso</th>\n",
       "      <th>estatura</th>\n",
       "      <th>sexo</th>\n",
       "    </tr>\n",
       "  </thead>\n",
       "  <tbody>\n",
       "    <tr>\n",
       "      <th>0</th>\n",
       "      <td>73.7</td>\n",
       "      <td>1.68</td>\n",
       "      <td>1</td>\n",
       "    </tr>\n",
       "    <tr>\n",
       "      <th>1</th>\n",
       "      <td>77.1</td>\n",
       "      <td>1.76</td>\n",
       "      <td>0</td>\n",
       "    </tr>\n",
       "    <tr>\n",
       "      <th>2</th>\n",
       "      <td>59.3</td>\n",
       "      <td>1.60</td>\n",
       "      <td>1</td>\n",
       "    </tr>\n",
       "    <tr>\n",
       "      <th>3</th>\n",
       "      <td>85.5</td>\n",
       "      <td>1.83</td>\n",
       "      <td>0</td>\n",
       "    </tr>\n",
       "    <tr>\n",
       "      <th>4</th>\n",
       "      <td>56.2</td>\n",
       "      <td>1.62</td>\n",
       "      <td>1</td>\n",
       "    </tr>\n",
       "    <tr>\n",
       "      <th>...</th>\n",
       "      <td>...</td>\n",
       "      <td>...</td>\n",
       "      <td>...</td>\n",
       "    </tr>\n",
       "    <tr>\n",
       "      <th>58</th>\n",
       "      <td>54.9</td>\n",
       "      <td>1.58</td>\n",
       "      <td>1</td>\n",
       "    </tr>\n",
       "    <tr>\n",
       "      <th>59</th>\n",
       "      <td>73.6</td>\n",
       "      <td>1.75</td>\n",
       "      <td>0</td>\n",
       "    </tr>\n",
       "    <tr>\n",
       "      <th>60</th>\n",
       "      <td>62.2</td>\n",
       "      <td>1.60</td>\n",
       "      <td>1</td>\n",
       "    </tr>\n",
       "    <tr>\n",
       "      <th>61</th>\n",
       "      <td>80.9</td>\n",
       "      <td>1.80</td>\n",
       "      <td>0</td>\n",
       "    </tr>\n",
       "    <tr>\n",
       "      <th>62</th>\n",
       "      <td>58.4</td>\n",
       "      <td>1.58</td>\n",
       "      <td>1</td>\n",
       "    </tr>\n",
       "  </tbody>\n",
       "</table>\n",
       "<p>63 rows × 3 columns</p>\n",
       "</div>"
      ],
      "text/plain": [
       "    peso  estatura  sexo\n",
       "0   73.7      1.68     1\n",
       "1   77.1      1.76     0\n",
       "2   59.3      1.60     1\n",
       "3   85.5      1.83     0\n",
       "4   56.2      1.62     1\n",
       "..   ...       ...   ...\n",
       "58  54.9      1.58     1\n",
       "59  73.6      1.75     0\n",
       "60  62.2      1.60     1\n",
       "61  80.9      1.80     0\n",
       "62  58.4      1.58     1\n",
       "\n",
       "[63 rows x 3 columns]"
      ]
     },
     "execution_count": 16,
     "metadata": {},
     "output_type": "execute_result"
    }
   ],
   "source": [
    "data = [[170, 56, 1], \n",
    "[172, 63, 0], \n",
    "[160, 50, 1],\n",
    "[170, 63, 0],\n",
    "[174, 66, 0],\n",
    "[158, 55, 1],\n",
    "[183, 80, 0],\n",
    "[182, 70, 0],\n",
    "[165, 54, 1]]\n",
    " \n",
    "data = pd.read_csv('antropo-latinos.csv')\n",
    "data"
   ]
  },
  {
   "cell_type": "code",
   "execution_count": 17,
   "id": "29a625c2",
   "metadata": {},
   "outputs": [],
   "source": [
    "pr = Perceptron(3)\n",
    "weights =[]\n",
    "errores = []"
   ]
  },
  {
   "cell_type": "code",
   "execution_count": 18,
   "id": "c44d3bb9",
   "metadata": {},
   "outputs": [
    {
     "data": {
      "text/html": [
       "<div>\n",
       "<style scoped>\n",
       "    .dataframe tbody tr th:only-of-type {\n",
       "        vertical-align: middle;\n",
       "    }\n",
       "\n",
       "    .dataframe tbody tr th {\n",
       "        vertical-align: top;\n",
       "    }\n",
       "\n",
       "    .dataframe thead th {\n",
       "        text-align: right;\n",
       "    }\n",
       "</style>\n",
       "<table border=\"1\" class=\"dataframe\">\n",
       "  <thead>\n",
       "    <tr style=\"text-align: right;\">\n",
       "      <th></th>\n",
       "      <th>peso</th>\n",
       "      <th>estatura</th>\n",
       "      <th>sexo</th>\n",
       "    </tr>\n",
       "  </thead>\n",
       "  <tbody>\n",
       "    <tr>\n",
       "      <th>0</th>\n",
       "      <td>73.7</td>\n",
       "      <td>1.68</td>\n",
       "      <td>1</td>\n",
       "    </tr>\n",
       "    <tr>\n",
       "      <th>1</th>\n",
       "      <td>77.1</td>\n",
       "      <td>1.76</td>\n",
       "      <td>0</td>\n",
       "    </tr>\n",
       "    <tr>\n",
       "      <th>2</th>\n",
       "      <td>59.3</td>\n",
       "      <td>1.60</td>\n",
       "      <td>1</td>\n",
       "    </tr>\n",
       "    <tr>\n",
       "      <th>3</th>\n",
       "      <td>85.5</td>\n",
       "      <td>1.83</td>\n",
       "      <td>0</td>\n",
       "    </tr>\n",
       "    <tr>\n",
       "      <th>4</th>\n",
       "      <td>56.2</td>\n",
       "      <td>1.62</td>\n",
       "      <td>1</td>\n",
       "    </tr>\n",
       "    <tr>\n",
       "      <th>...</th>\n",
       "      <td>...</td>\n",
       "      <td>...</td>\n",
       "      <td>...</td>\n",
       "    </tr>\n",
       "    <tr>\n",
       "      <th>58</th>\n",
       "      <td>54.9</td>\n",
       "      <td>1.58</td>\n",
       "      <td>1</td>\n",
       "    </tr>\n",
       "    <tr>\n",
       "      <th>59</th>\n",
       "      <td>73.6</td>\n",
       "      <td>1.75</td>\n",
       "      <td>0</td>\n",
       "    </tr>\n",
       "    <tr>\n",
       "      <th>60</th>\n",
       "      <td>62.2</td>\n",
       "      <td>1.60</td>\n",
       "      <td>1</td>\n",
       "    </tr>\n",
       "    <tr>\n",
       "      <th>61</th>\n",
       "      <td>80.9</td>\n",
       "      <td>1.80</td>\n",
       "      <td>0</td>\n",
       "    </tr>\n",
       "    <tr>\n",
       "      <th>62</th>\n",
       "      <td>58.4</td>\n",
       "      <td>1.58</td>\n",
       "      <td>1</td>\n",
       "    </tr>\n",
       "  </tbody>\n",
       "</table>\n",
       "<p>63 rows × 3 columns</p>\n",
       "</div>"
      ],
      "text/plain": [
       "    peso  estatura  sexo\n",
       "0   73.7      1.68     1\n",
       "1   77.1      1.76     0\n",
       "2   59.3      1.60     1\n",
       "3   85.5      1.83     0\n",
       "4   56.2      1.62     1\n",
       "..   ...       ...   ...\n",
       "58  54.9      1.58     1\n",
       "59  73.6      1.75     0\n",
       "60  62.2      1.60     1\n",
       "61  80.9      1.80     0\n",
       "62  58.4      1.58     1\n",
       "\n",
       "[63 rows x 3 columns]"
      ]
     },
     "execution_count": 18,
     "metadata": {},
     "output_type": "execute_result"
    }
   ],
   "source": [
    "data"
   ]
  },
  {
   "cell_type": "code",
   "execution_count": 19,
   "id": "1a3dd021",
   "metadata": {},
   "outputs": [
    {
     "name": "stderr",
     "output_type": "stream",
     "text": [
      "<>:2: SyntaxWarning: \"is\" with a literal. Did you mean \"==\"?\n",
      "<>:2: SyntaxWarning: \"is\" with a literal. Did you mean \"==\"?\n",
      "C:\\Users\\axelg\\AppData\\Local\\Temp\\ipykernel_3116\\4041420358.py:2: SyntaxWarning: \"is\" with a literal. Did you mean \"==\"?\n",
      "  if data[\"b\"] is \"\":\n"
     ]
    }
   ],
   "source": [
    "try:\n",
    "    if data[\"b\"] is \"\":\n",
    "        data.insert(0, \"b\", 1, allow_duplicates=False)    \n",
    "except:\n",
    "    data.insert(0, \"b\", 1, allow_duplicates=False)\n",
    "    \n",
    "for _ in range(100):\n",
    "    for i in range(len(data)):\n",
    "        output = data.iloc[i][data.shape[1]-1]\n",
    "        inp =  data.iloc[i].values\n",
    "        inp = inp[:-1]\n",
    "        weights.append(pr._w)\n",
    "        err = pr.train(inp, output)\n",
    "        errores.append(err)"
   ]
  },
  {
   "cell_type": "code",
   "execution_count": 20,
   "id": "df79642e",
   "metadata": {},
   "outputs": [],
   "source": [
    "estatura = 1.70\n",
    "peso = 68\n"
   ]
  },
  {
   "cell_type": "code",
   "execution_count": 21,
   "id": "2d8d20db",
   "metadata": {},
   "outputs": [
    {
     "name": "stdout",
     "output_type": "stream",
     "text": [
      "Mujer\n"
     ]
    }
   ],
   "source": [
    "if pr.predict([1,estatura,peso]) ==1:\n",
    "    print(\"Mujer\")\n",
    "else:\n",
    "    print(\"Hombre\")"
   ]
  },
  {
   "cell_type": "code",
   "execution_count": 22,
   "id": "d7305cf5",
   "metadata": {},
   "outputs": [
    {
     "data": {
      "image/png": "[encoded data removed]",
      "text/plain": [
       "<Figure size 640x480 with 1 Axes>"
      ]
     },
     "metadata": {},
     "output_type": "display_data"
    }
   ],
   "source": [
    "puede_graficar = True\n",
    "try:\n",
    "    imp.find_module('matplotlib')\n",
    "except:\n",
    "    puede_graficar = False\n",
    "\n",
    "if not puede_graficar:\n",
    "    print(\"No es posible graficar los resultados porque hace falta el modulo matplotlib\")\n",
    "    sys.exit(0)\n",
    "    pass\n",
    "plt.plot(errores)\n",
    "plt.show();"
   ]
  },
  {
   "cell_type": "code",
   "execution_count": null,
   "id": "9527758e",
   "metadata": {},
   "outputs": [],
   "source": []
  }
 ],
 "metadata": {
  "kernelspec": {
   "display_name": "Python 3 (ipykernel)",
   "language": "python",
   "name": "python3"
  },
  "language_info": {
   "codemirror_mode": {
    "name": "ipython",
    "version": 3
   },
   "file_extension": ".py",
   "mimetype": "text/x-python",
   "name": "python",
   "nbconvert_exporter": "python",
   "pygments_lexer": "ipython3",
   "version": "3.10.2"
  }
 },
 "nbformat": 4,
 "nbformat_minor": 5
}
